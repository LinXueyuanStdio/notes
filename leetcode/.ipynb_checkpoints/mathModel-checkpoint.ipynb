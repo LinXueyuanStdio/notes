{
 "cells": [
  {
   "cell_type": "markdown",
   "metadata": {},
   "source": [
    "# 一、优化类\n",
    "\n",
    "- 线性规划（运输问题、指派问题、对偶理论、灵敏度分析）\n",
    "- 整数规划（分支定界、枚举试探、蒙特卡洛）\n",
    "- 非线性规划（约束极值、无约束极值）\n",
    "- 目标规划（单目标、多目标）\n",
    "- 动态规划（动态、静态、线性动规、区域动规、树形动规、背包动规）\n",
    "- 动态优化（变分法）\n",
    "- 现代优化算法（贪婪算法、禁忌搜索、模拟退火、遗传算法、人工神经网络、蚁群算法、粒子群算法、人群搜索算法、人工免疫算法、集成算法、TSP问题、QAP问题、JSP问题）\n",
    "- 模糊逼近算法"
   ]
  },
  {
   "cell_type": "markdown",
   "metadata": {},
   "source": [
    "# 二、图论\n",
    "\n",
    "- 最小生成树（prim算法、Kruskal算法）\n",
    "- 最短路径（Dijkstra算法、Floyd-Warshall算法、Bellman-Ford算法、SPFA算法）\n",
    "- 匹配问题（匈牙利算法）\n",
    "- Euler图和Hamilton图\n",
    "- 网络流（最大流问题、最小费用最大流问题）"
   ]
  },
  {
   "cell_type": "markdown",
   "metadata": {},
   "source": [
    "# 三&四、预测类&统计\n",
    "\n",
    "- GM（1，1）灰度预测\n",
    "- 时间序列模型（确定性时间序列、平稳时间序列、移动平均、指数平滑、Winter方法、ARIMA模型）\n",
    "- 回归（一元线性回归、多元线性回归MLR、非线性回归、多元逐步回归MSR、主元回归法PCR、部分最小二乘回归法PLSR）（重点）\n",
    "- Bayes统计预测\n",
    "- 分类模型（逻辑回归、决策树、神经网络）\n",
    "- 判别分析模型（距离判别、Fisher判别、Bayes判别）\n",
    "- 参数估计（点估计、极大似然估计、Bayes估计）\n",
    "- 假设检验（U-检验、T-检验、卡方检验、F-检验、最优性检验、分布拟合检验）\n",
    "- 方差分析（单因素、多因素、相关性检验）\n",
    "- 经验分布函数\n",
    "- 正交试验\n",
    "- 模糊数学（模糊分类、模糊决策）\n",
    "- 随机森林"
   ]
  },
  {
   "cell_type": "markdown",
   "metadata": {},
   "source": [
    "# 五、数据处理\n",
    "\n",
    "- 图像处理\n",
    "- 插值与拟合（Lagrange插值、Newton插值、Hermite插值、三次样条插值、线性最小二乘）\n",
    "- 搜索算法（回溯、分治、排序、网格、穷举）\n",
    "- 数值分析方法（方程组求解、矩阵运算、数值积分、逐次逼近法、牛顿迭代法）\n",
    "- 模糊逼近\n",
    "- 动态加权\n",
    "- ES\n",
    "- DWRR\n",
    "- 序列分析\n",
    "- 主成分分析\n",
    "- 因子分析\n",
    "- 聚类分析\n",
    "- 灰色关联分析法\n",
    "- 数据包络分析法（DEA）"
   ]
  },
  {
   "cell_type": "markdown",
   "metadata": {},
   "source": [
    "# 六、评价类\n",
    "\n",
    "- 层次分析法（AHP）\n",
    "- 模糊综合评价\n",
    "- 基于层次分析的模糊综合评价\n",
    "- 动态加权综合评价\n",
    "- TEIZ理论"
   ]
  },
  {
   "cell_type": "markdown",
   "metadata": {},
   "source": [
    "# 七、图形类（重点）\n",
    "- 算法流程图\n",
    "- 条形图\n",
    "- 直方图\n",
    "- 散点图\n",
    "- 饼图\n",
    "- 折线图\n",
    "- 茎叶图\n",
    "- 箱线图\n",
    "- P_P图\n",
    "- Q_Q图\n",
    "- Venn图\n",
    "- 矢量图\n",
    "- 误差分析图\n",
    "- 概率分布图\n",
    "- 5w1h分析法\n",
    "- 漏斗模型\n",
    "- 金字塔模型\n",
    "- 鱼骨分析法\n",
    "- 等高线曲面图\n",
    "- 思维导图"
   ]
  },
  {
   "cell_type": "markdown",
   "metadata": {},
   "source": [
    "# 八、模拟与仿真\n",
    "\n",
    "- 蒙特卡洛\n",
    "- 元胞自动机"
   ]
  },
  {
   "cell_type": "markdown",
   "metadata": {},
   "source": [
    "# 九、方程（进阶）\n",
    "\n",
    "- 微分方程（Malthus人口模型、Logistic模型、战争模型）\n",
    "- 稳定状态模型（Volterra 模型）\n",
    "- 常微分方程的解法（离散化、Euler方法、Runge—Kutta方法、线性多步法）\n",
    "- 差分方程（蛛网模型、遗传模型）\n",
    "- 偏微分方程数值解（定解问题、差分解法、有限元分析）"
   ]
  },
  {
   "cell_type": "markdown",
   "metadata": {},
   "source": [
    "# 十、数据建模&机器学习方法\n",
    "（注：此部分与数据处理算法有大量重叠）\n",
    "\n",
    "- 云模型\n",
    "- Logistic回归\n",
    "- 主成分分析\n",
    "- 支持向量机（SVM）\n",
    "- K-均值（K-Means）\n",
    "- 近邻法\n",
    "- 朴素Bayes判别法\n",
    "\n",
    "- 决策树方法\n",
    "- 人工神经网络（BP、RBF、Hopfield、SOM）\n",
    "- 正则化方法\n",
    "- kernel算法"
   ]
  },
  {
   "cell_type": "markdown",
   "metadata": {},
   "source": [
    "# 十一、其他\n",
    "\n",
    "- 排队论\n",
    "- 博弈论\n",
    "- 贮存伦\n",
    "- 概率模型\n",
    "- 马氏链模型\n",
    "- 决策论\n",
    " （单目标决策：不确定型决策、风险决策、效用函数、决策树、灵敏度分析）\n",
    " （多目标决策：分层序列法、多目标线性规划、层次分析法）\n",
    "- 系统工程建模（ISM解释模型、网络计划模型、系统评价、决策分析）\n",
    "- 交叉验证方法（Holdout 验证、K-fold cross-validation、留一验证）"
   ]
  },
  {
   "cell_type": "markdown",
   "metadata": {},
   "source": [
    "# 附：简单建模方法\n",
    "\n",
    "- 比例关系\n",
    "- 函数关系\n",
    "- 几何模拟\n",
    "- 类比分析\n",
    "- 物理规律建模"
   ]
  }
 ],
 "metadata": {
  "kernelspec": {
   "display_name": "Python 3",
   "language": "python",
   "name": "python3"
  },
  "language_info": {
   "codemirror_mode": {
    "name": "ipython",
    "version": 3
   },
   "file_extension": ".py",
   "mimetype": "text/x-python",
   "name": "python",
   "nbconvert_exporter": "python",
   "pygments_lexer": "ipython3",
   "version": "3.5.2"
  },
  "toc": {
   "colors": {
    "hover_highlight": "#DAA520",
    "navigate_num": "#000000",
    "navigate_text": "#333333",
    "running_highlight": "#FF0000",
    "selected_highlight": "#FFD700",
    "sidebar_border": "#EEEEEE",
    "wrapper_background": "#FFFFFF"
   },
   "moveMenuLeft": true,
   "nav_menu": {
    "height": "210px",
    "width": "252px"
   },
   "navigate_menu": true,
   "number_sections": true,
   "sideBar": true,
   "threshold": 4,
   "toc_cell": false,
   "toc_section_display": "block",
   "toc_window_display": false,
   "widenNotebook": false
  }
 },
 "nbformat": 4,
 "nbformat_minor": 2
}
