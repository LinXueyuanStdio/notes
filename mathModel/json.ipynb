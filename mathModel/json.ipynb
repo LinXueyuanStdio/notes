{
 "cells": [
  {
   "cell_type": "code",
   "execution_count": 10,
   "metadata": {},
   "outputs": [
    {
     "name": "stdout",
     "output_type": "stream",
     "text": [
      "Marco\n",
      "{\n",
      "    \"likes\": [\n",
      "        \"Python\",\n",
      "        \"Data Mining\"\n",
      "    ],\n",
      "    \"user_id\": \"1\",\n",
      "    \"name\": \"Marco\"\n",
      "}\n",
      "{'likes': ['Python', 'Data Mining'], 'user_id': '1', 'name': 'Marco'}\n"
     ]
    }
   ],
   "source": [
    "import json\n",
    "\n",
    "if __name__ == '__main__':\n",
    "    user_json = '{\"user_id\": \"1\", \"name\": \"Marco\"}'\n",
    "    user_data = json.loads(user_json)\n",
    "    print(user_data['name'])\n",
    "\n",
    "    user_data['likes'] = ['Python', 'Data Mining']\n",
    "\n",
    "    with open('data.json', 'w') as outfile:\n",
    "        json.dump(user_data, outfile)\n",
    "        \n",
    "    user_json = json.dumps(user_data, indent=4)\n",
    "    print(user_json)\n",
    "    \n",
    "    with open('data.json', \"r\", encoding = \"utf-8\") as f:\n",
    "        load_data = json.load(f)\n",
    "        print(load_data)"
   ]
  }
 ],
 "metadata": {
  "kernelspec": {
   "display_name": "Python 3",
   "language": "python",
   "name": "python3"
  },
  "language_info": {
   "codemirror_mode": {
    "name": "ipython",
    "version": 3
   },
   "file_extension": ".py",
   "mimetype": "text/x-python",
   "name": "python",
   "nbconvert_exporter": "python",
   "pygments_lexer": "ipython3",
   "version": "3.5.2"
  },
  "toc": {
   "colors": {
    "hover_highlight": "#DAA520",
    "navigate_num": "#000000",
    "navigate_text": "#333333",
    "running_highlight": "#FF0000",
    "selected_highlight": "#FFD700",
    "sidebar_border": "#EEEEEE",
    "wrapper_background": "#FFFFFF"
   },
   "moveMenuLeft": true,
   "nav_menu": {
    "height": "12px",
    "width": "252px"
   },
   "navigate_menu": true,
   "number_sections": true,
   "sideBar": true,
   "threshold": 4,
   "toc_cell": false,
   "toc_section_display": "block",
   "toc_window_display": false,
   "widenNotebook": false
  }
 },
 "nbformat": 4,
 "nbformat_minor": 2
}
