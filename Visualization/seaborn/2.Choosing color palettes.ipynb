{
 "cells": [
  {
   "cell_type": "markdown",
   "metadata": {},
   "source": [
    "# 选择配色方案"
   ]
  },
  {
   "cell_type": "markdown",
   "metadata": {},
   "source": [
    "# 目录\n",
    "+ 使用color_palette()和set_palette()建立配色方案\n",
    "    + color_palette()可以接受的颜色参数形式\n",
    "    + sns.choose_colorbrewer_palette()能够以互动的方式测试、修改不同的参数\n",
    "    + Qualitative color palettes\n",
    "        + 使用循环颜色系统\n",
    "        + 使用Color Brewer调色板\n",
    "        + 手动指定循环颜色系统\n",
    "        + 使用来自xkcd color survey的颜色名字\n",
    "    + Sequential color palettes\n",
    "        + Sequential palettes中的cubehelix_palette()函数\n",
    "        + sns.choose_cubehelix__palette()能够以互动的方式测试、修改不同的参数\n",
    "        + Sequential palettes中的light_palette()函数和dark_palette()函数\n",
    "        + sns.choose_light_palette()能够以互动的方式测试、修改不同的参数  \n",
    "        + sns.choose_dark_palette()能够以互动的方式测试、修改不同的参数  \n",
    "    + Diverging color palettes\n",
    "        + Diverging palettes中的diverging_palette()函数\n",
    "        + sns.choose_diverging_palette()能够以互动的方式测试、修改不同的参数\n",
    "        \n",
    "        \n",
    "+ 使用set_palette()函数改变配色方案的默认设置\n",
    "\n",
    "\n",
    "+ 临时设置图表配色方案"
   ]
  },
  {
   "cell_type": "code",
   "execution_count": 1,
   "metadata": {},
   "outputs": [],
   "source": [
    "import numpy as np\n",
    "import seaborn as sns\n",
    "import matplotlib.pyplot as plt\n",
    "sns.set(rc={\"figure.figsize\": (6, 6)})\n",
    "np.random.seed(sum(map(ord, \"palettes\")))\n",
    "%matplotlib inline"
   ]
  },
  {
   "cell_type": "markdown",
   "metadata": {},
   "source": [
    "## 使用color_palette()和set_palette()建立配色方案"
   ]
  },
  {
   "cell_type": "markdown",
   "metadata": {},
   "source": [
    "### color_palette()可以接受的颜色参数形式\n",
    "+ HTML十六进制字符串（hex color codes）\n",
    "    + color = '#eeefff'       \n",
    "\n",
    "+ 合法的HTML颜色名字（HTML color names）\n",
    "    + color = 'red'/'chartreuse'      \n",
    "\n",
    "+ 归一化到[0, 1]的RGB元组（RGB tuples）\n",
    "    + color = (0.3, 0.3, 0.4)"
   ]
  },
  {
   "cell_type": "markdown",
   "metadata": {},
   "source": [
    "### sns.choose_colorbrewer_palette()能够以互动的方式测试、修改不同的参数\n",
    "只能用于Jupyter Notebook"
   ]
  },
  {
   "cell_type": "markdown",
   "metadata": {},
   "source": [
    "sns.choose_colorbrewer_palette(data_type, as_cmap=False)  \n",
    "+ data_type : {‘sequential’, ‘diverging’, ‘qualitative’}  \n",
    "This describes the kind of data you want to visualize. Note that you can pass substrings（e.g. ‘q’ for ‘qualitative）.\n",
    "+ as_cmap : bool  \n",
    "If True, the return value is a matplotlib colormap rather than a list of discrete colors."
   ]
  },
  {
   "cell_type": "code",
   "execution_count": 2,
   "metadata": {},
   "outputs": [
    {
     "data": {
      "text/plain": [
       "[(0.95755478915046244, 0.95755478915046244, 0.95755478915046244),\n",
       " (0.90120723387774304, 0.90120723387774304, 0.90120723387774304),\n",
       " (0.83289505032932054, 0.83289505032932054, 0.83289505032932054),\n",
       " (0.75021916137022127, 0.75021916137022127, 0.75021916137022127),\n",
       " (0.64341409276513495, 0.64341409276513495, 0.64341409276513495),\n",
       " (0.53871589525073182, 0.53871589525073182, 0.53871589525073182),\n",
       " (0.44032295626752516, 0.44032295626752516, 0.44032295626752516),\n",
       " (0.34288351570858677, 0.34288351570858677, 0.34288351570858677),\n",
       " (0.22329873945198808, 0.22329873945198808, 0.22329873945198808),\n",
       " (0.1046981975144031, 0.1046981975144031, 0.1046981975144031)]"
      ]
     },
     "execution_count": 2,
     "metadata": {},
     "output_type": "execute_result"
    },
    {
     "data": {
      "image/png": "[encoded data removed]",
      "text/plain": [
       "<matplotlib.figure.Figure at 0x9ab9860>"
      ]
     },
     "metadata": {},
     "output_type": "display_data"
    }
   ],
   "source": [
    "sns.choose_colorbrewer_palette('sequential', as_cmap=False)"
   ]
  },
  {
   "cell_type": "markdown",
   "metadata": {},
   "source": [
    "### Qualitative color palettes"
   ]
  },
  {
   "cell_type": "markdown",
   "metadata": {},
   "source": [
    "当需要区分离散的数据集，且数据集之间没有内在的顺序，最好使用qualitative (or categorical) palettes"
   ]
  },
  {
   "cell_type": "code",
   "execution_count": 3,
   "metadata": {},
   "outputs": [
    {
     "data": {
      "text/plain": [
       "[(0.2980392156862745, 0.4470588235294118, 0.6901960784313725),\n",
       " (0.3333333333333333, 0.6588235294117647, 0.40784313725490196),\n",
       " (0.7686274509803922, 0.3058823529411765, 0.3215686274509804),\n",
       " (0.5058823529411764, 0.4470588235294118, 0.6980392156862745),\n",
       " (0.8, 0.7254901960784313, 0.4549019607843137),\n",
       " (0.39215686274509803, 0.7098039215686275, 0.803921568627451)]"
      ]
     },
     "execution_count": 3,
     "metadata": {},
     "output_type": "execute_result"
    }
   ],
   "source": [
    "# 导入Seaborn的同时，会引入默认的颜色循环，由6种颜色构成\n",
    "sns.color_palette() # 返回当前默认颜色循环"
   ]
  },
  {
   "cell_type": "code",
   "execution_count": 4,
   "metadata": {},
   "outputs": [
    {
     "data": {
      "image/png": "[encoded data removed]",
      "text/plain": [
       "<matplotlib.figure.Figure at 0x9c3b6a0>"
      ]
     },
     "metadata": {},
     "output_type": "display_data"
    }
   ],
   "source": [
    "# 显示当前默认颜色循环\n",
    "current_palette = sns.color_palette()\n",
    "sns.palplot(current_palette) # sns.palplot：plot the values in a color palette as a horizontal array"
   ]
  },
  {
   "cell_type": "markdown",
   "metadata": {},
   "source": [
    "在默认颜色主题的基础上，有6个变种：deep、muted、pastel、bright、dark、colorblind"
   ]
  },
  {
   "cell_type": "markdown",
   "metadata": {},
   "source": [
    "#### 使用循环颜色系统\n",
    "当需要区分的数据集超过颜色循环中的6种颜色时，最简单的方法是使用循环颜色系统"
   ]
  },
  {
   "cell_type": "code",
   "execution_count": 5,
   "metadata": {},
   "outputs": [
    {
     "data": {
      "image/png": "[encoded data removed]",
      "text/plain": [
       "<matplotlib.figure.Figure at 0x9db0240>"
      ]
     },
     "metadata": {},
     "output_type": "display_data"
    }
   ],
   "source": [
    "# 最为常用的方法是使用'hls'循环颜色系统\n",
    "sns.palplot(sns.color_palette(\"hls\", 8))"
   ]
  },
  {
   "cell_type": "code",
   "execution_count": 6,
   "metadata": {},
   "outputs": [
    {
     "data": {
      "image/png": "[encoded data removed]",
      "text/plain": [
       "<matplotlib.figure.Figure at 0xaa34668>"
      ]
     },
     "metadata": {},
     "output_type": "display_data"
    }
   ],
   "source": [
    "# 可以通过sns.hls_palette函数控制'hls'循环颜色系统的亮度和饱和度\n",
    "sns.palplot(sns.hls_palette(8, l=.3, s=.8)) # l是亮度（lightness），s是饱和度（saturation）"
   ]
  },
  {
   "cell_type": "code",
   "execution_count": 7,
   "metadata": {},
   "outputs": [
    {
     "data": {
      "image/png": "[encoded data removed]",
      "text/plain": [
       "<matplotlib.figure.Figure at 0xab9e748>"
      ]
     },
     "metadata": {},
     "output_type": "display_data"
    }
   ],
   "source": [
    "# 'husl'循环颜色系统，在亮度和饱和度上分别更加平均\n",
    "sns.palplot(sns.color_palette(\"husl\", 8))"
   ]
  },
  {
   "cell_type": "code",
   "execution_count": 8,
   "metadata": {},
   "outputs": [
    {
     "data": {
      "image/png": "[encoded data removed]",
      "text/plain": [
       "<matplotlib.figure.Figure at 0xad39cf8>"
      ]
     },
     "metadata": {},
     "output_type": "display_data"
    }
   ],
   "source": [
    "# 可以通过sns.husl_palette函数控制'husl'循环颜色系统的亮度和饱和度\n",
    "sns.palplot(sns.husl_palette(8, l=.9, s=.9)) # l是亮度（lightness），s是饱和度（saturation）"
   ]
  },
  {
   "cell_type": "markdown",
   "metadata": {},
   "source": [
    "#### 使用Color Brewer调色板"
   ]
  },
  {
   "cell_type": "markdown",
   "metadata": {},
   "source": [
    "来自[Color Brewer](http://colorbrewer2.org/)的颜色循环系统\n",
    "+ 缺点  \n",
    "在某些情况下颜色会循环重复\n",
    "+ 优点  \n",
    "某些颜色循环系统对色盲比较友好（尤其是红绿色盲）"
   ]
  },
  {
   "cell_type": "code",
   "execution_count": 9,
   "metadata": {},
   "outputs": [
    {
     "data": {
      "image/png": "[encoded data removed]",
      "text/plain": [
       "<matplotlib.figure.Figure at 0xaed6c18>"
      ]
     },
     "metadata": {},
     "output_type": "display_data"
    }
   ],
   "source": [
    "sns.palplot(sns.color_palette(\"Paired\"))"
   ]
  },
  {
   "cell_type": "code",
   "execution_count": 10,
   "metadata": {},
   "outputs": [
    {
     "data": {
      "image/png": "[encoded data removed]",
      "text/plain": [
       "<matplotlib.figure.Figure at 0xad92908>"
      ]
     },
     "metadata": {},
     "output_type": "display_data"
    }
   ],
   "source": [
    "sns.palplot(sns.color_palette(\"Set2\", 10))"
   ]
  },
  {
   "cell_type": "markdown",
   "metadata": {},
   "source": [
    "#### 手动指定循环颜色系统"
   ]
  },
  {
   "cell_type": "code",
   "execution_count": 11,
   "metadata": {},
   "outputs": [
    {
     "data": {
      "image/png": "[encoded data removed]",
      "text/plain": [
       "<matplotlib.figure.Figure at 0xaf992b0>"
      ]
     },
     "metadata": {},
     "output_type": "display_data"
    }
   ],
   "source": [
    "flatui = [\"#9b59b6\", \"#3498db\", \"#95a5a6\", \"#e74c3c\", \"#34495e\", \"#2ecc71\"]\n",
    "sns.palplot(sns.color_palette(flatui))"
   ]
  },
  {
   "cell_type": "markdown",
   "metadata": {},
   "source": [
    "#### 使用来自xkcd color survey的颜色名字\n",
    "[954 named colors](http://xkcd.com/color/rgb/)"
   ]
  },
  {
   "cell_type": "code",
   "execution_count": 12,
   "metadata": {},
   "outputs": [
    {
     "data": {
      "image/png": "[encoded data removed]",
      "text/plain": [
       "<matplotlib.figure.Figure at 0xb197780>"
      ]
     },
     "metadata": {},
     "output_type": "display_data"
    }
   ],
   "source": [
    "# 使用sns.xkcd_rgb设置颜色名字\n",
    "plt.plot([0, 1], [0, 1], sns.xkcd_rgb[\"pale red\"], lw=3)\n",
    "plt.plot([0, 1], [0, 2], sns.xkcd_rgb[\"medium green\"], lw=3)\n",
    "plt.plot([0, 1], [0, 3], sns.xkcd_rgb[\"denim blue\"], lw=3);"
   ]
  },
  {
   "cell_type": "code",
   "execution_count": 13,
   "metadata": {},
   "outputs": [
    {
     "data": {
      "image/png": "[encoded data removed]",
      "text/plain": [
       "<matplotlib.figure.Figure at 0xb1c99e8>"
      ]
     },
     "metadata": {},
     "output_type": "display_data"
    }
   ],
   "source": [
    "# 使用sns.xkcd_palette传入颜色名字列表\n",
    "colors = [\"windows blue\", \"amber\", \"greyish\", \"faded green\", \"dusty purple\"]\n",
    "sns.palplot(sns.xkcd_palette(colors))"
   ]
  },
  {
   "cell_type": "markdown",
   "metadata": {},
   "source": [
    "### Sequential color palettes"
   ]
  },
  {
   "cell_type": "markdown",
   "metadata": {},
   "source": [
    "当数据集的范围从相对低值（不感兴趣）到相对高值（很感兴趣），最好使用sequential color palettes  \n",
    "\n",
    "常用于kdeplot或corrplot等函数  \n",
    "\n",
    "The Color Brewer library中有大量的sequential color palettes，以占主导地位的颜色命名（如Blues）"
   ]
  },
  {
   "cell_type": "code",
   "execution_count": 14,
   "metadata": {},
   "outputs": [
    {
     "data": {
      "image/png": "[encoded data removed]",
      "text/plain": [
       "<matplotlib.figure.Figure at 0x9b3a908>"
      ]
     },
     "metadata": {},
     "output_type": "display_data"
    }
   ],
   "source": [
    "sns.palplot(sns.color_palette(\"Blues\"))"
   ]
  },
  {
   "cell_type": "markdown",
   "metadata": {},
   "source": [
    "添加后缀_r，倒置sequential color palettes的顺序"
   ]
  },
  {
   "cell_type": "code",
   "execution_count": 15,
   "metadata": {},
   "outputs": [
    {
     "data": {
      "image/png": "[encoded data removed]",
      "text/plain": [
       "<matplotlib.figure.Figure at 0x9c04c50>"
      ]
     },
     "metadata": {},
     "output_type": "display_data"
    }
   ],
   "source": [
    "sns.palplot(sns.color_palette(\"BuGn_r\"))"
   ]
  },
  {
   "cell_type": "markdown",
   "metadata": {},
   "source": [
    "添加后缀_d，使sequential color palettes颜色变深"
   ]
  },
  {
   "cell_type": "code",
   "execution_count": 16,
   "metadata": {},
   "outputs": [
    {
     "data": {
      "image/png": "[encoded data removed]",
      "text/plain": [
       "<matplotlib.figure.Figure at 0x9bf4470>"
      ]
     },
     "metadata": {},
     "output_type": "display_data"
    }
   ],
   "source": [
    "sns.palplot(sns.color_palette(\"GnBu_d\"))"
   ]
  },
  {
   "cell_type": "markdown",
   "metadata": {
    "raw_mimetype": "text/restructuredtext"
   },
   "source": [
    "#### Sequential palettes中的cubehelix_palette()函数\n",
    "cubehelix调色板系统的亮度是线性变化的，优点在于打印后也能区分不同颜色，且对色盲友好"
   ]
  },
  {
   "cell_type": "code",
   "execution_count": 17,
   "metadata": {},
   "outputs": [
    {
     "data": {
      "image/png": "[encoded data removed]",
      "text/plain": [
       "<matplotlib.figure.Figure at 0x9e247f0>"
      ]
     },
     "metadata": {},
     "output_type": "display_data"
    }
   ],
   "source": [
    "sns.palplot(sns.color_palette(\"cubehelix\", 8)) # 通过cubehelix参数调用"
   ]
  },
  {
   "cell_type": "code",
   "execution_count": 18,
   "metadata": {},
   "outputs": [
    {
     "data": {
      "image/png": "[encoded data removed]",
      "text/plain": [
       "<matplotlib.figure.Figure at 0x9dee390>"
      ]
     },
     "metadata": {},
     "output_type": "display_data"
    }
   ],
   "source": [
    "sns.palplot(sns.cubehelix_palette(8)) # 通过sns.cubehelix_palette()函数调用，与通过cubehelix参数调用的结果有所区别（色域的宽度变小、明暗变化倒置）"
   ]
  },
  {
   "cell_type": "code",
   "execution_count": 19,
   "metadata": {},
   "outputs": [
    {
     "data": {
      "image/png": "[encoded data removed]",
      "text/plain": [
       "<matplotlib.figure.Figure at 0x9ddb5c0>"
      ]
     },
     "metadata": {},
     "output_type": "display_data"
    }
   ],
   "source": [
    "# start参数（取值0到3）和rot参数（number of rotations，任意值，取值-1到1）\n",
    "sns.palplot(sns.cubehelix_palette(8, start=.5, rot=-.75))"
   ]
  },
  {
   "cell_type": "code",
   "execution_count": 20,
   "metadata": {},
   "outputs": [
    {
     "data": {
      "image/png": "[encoded data removed]",
      "text/plain": [
       "<matplotlib.figure.Figure at 0x9b76160>"
      ]
     },
     "metadata": {},
     "output_type": "display_data"
    }
   ],
   "source": [
    "# dark、light参数（控制endpoints的暗度和亮度）、reverse参数（倒置cubehelix_palette）\n",
    "sns.palplot(sns.cubehelix_palette(8, start=2, rot=0, dark=0, light=.95, reverse=True))"
   ]
  },
  {
   "cell_type": "code",
   "execution_count": 21,
   "metadata": {},
   "outputs": [
    {
     "data": {
      "text/plain": [
       "<matplotlib.axes._subplots.AxesSubplot at 0x9b81630>"
      ]
     },
     "execution_count": 21,
     "metadata": {},
     "output_type": "execute_result"
    },
    {
     "data": {
      "image/png": "[encoded data removed]",
      "text/plain": [
       "<matplotlib.figure.Figure at 0x9c85f98>"
      ]
     },
     "metadata": {},
     "output_type": "display_data"
    }
   ],
   "source": [
    "# 默认返回颜色列表，设置as_cmap=True返回colormap对象，可以用于某些Seaborn或matplotlib函数\n",
    "x, y = np.random.multivariate_normal([0, 0], [[1, -.5], [-.5, 1]], size=300).T\n",
    "cmap = sns.cubehelix_palette(light=1, as_cmap=True)\n",
    "sns.kdeplot(x, y, cmap=cmap, shade=True)"
   ]
  },
  {
   "cell_type": "markdown",
   "metadata": {},
   "source": [
    "#### sns.choose_cubehelix__palette()能够以互动的方式测试、修改不同的参数  \n",
    "只能用于Jupyter Notebook"
   ]
  },
  {
   "cell_type": "markdown",
   "metadata": {},
   "source": [
    "sns.choose_cubehelix_palette(as_cmap=False)\n",
    "+ as_cmap : bool  \n",
    "If True, the return value is a matplotlib colormap rather than a list of discrete colors."
   ]
  },
  {
   "cell_type": "code",
   "execution_count": 22,
   "metadata": {},
   "outputs": [
    {
     "data": {
      "text/plain": [
       "[[0.9312692223325372, 0.8201921796082118, 0.7971480974663592],\n",
       " [0.8888663743660877, 0.7106793139856472, 0.7158661451411206],\n",
       " [0.8314793143949643, 0.5987041921652179, 0.6530062709235388],\n",
       " [0.7588951019517731, 0.49817117746394224, 0.6058723814510268],\n",
       " [0.6672565752652589, 0.40671838146419587, 0.5620016466433286],\n",
       " [0.5529215689527474, 0.3217924564263954, 0.5093718054521851],\n",
       " [0.43082755198027817, 0.24984535814964698, 0.4439396089963985],\n",
       " [0.29794615023641036, 0.18145907625614888, 0.35317781405034754],\n",
       " [0.1750865648952205, 0.11840023306916837, 0.24215989137836502]]"
      ]
     },
     "execution_count": 22,
     "metadata": {},
     "output_type": "execute_result"
    },
    {
     "data": {
      "image/png": "[encoded data removed]",
      "text/plain": [
       "<matplotlib.figure.Figure at 0xb64f048>"
      ]
     },
     "metadata": {},
     "output_type": "display_data"
    }
   ],
   "source": [
    "sns.choose_cubehelix_palette(as_cmap=False)"
   ]
  },
  {
   "cell_type": "markdown",
   "metadata": {},
   "source": [
    "#### Sequential palettes中的light_palette()函数和dark_palette()函数\n",
    "以某个颜色为种子，从明向暗或从暗向明渐变，产生sequential palettes"
   ]
  },
  {
   "cell_type": "code",
   "execution_count": 23,
   "metadata": {},
   "outputs": [
    {
     "data": {
      "image/png": "[encoded data removed]",
      "text/plain": [
       "<matplotlib.figure.Figure at 0x9d770f0>"
      ]
     },
     "metadata": {},
     "output_type": "display_data"
    }
   ],
   "source": [
    "sns.palplot(sns.light_palette(\"green\"))"
   ]
  },
  {
   "cell_type": "code",
   "execution_count": 24,
   "metadata": {},
   "outputs": [
    {
     "data": {
      "image/png": "[encoded data removed]",
      "text/plain": [
       "<matplotlib.figure.Figure at 0x9d8e390>"
      ]
     },
     "metadata": {},
     "output_type": "display_data"
    }
   ],
   "source": [
    "sns.palplot(sns.dark_palette(\"purple\"))"
   ]
  },
  {
   "cell_type": "code",
   "execution_count": 25,
   "metadata": {},
   "outputs": [
    {
     "data": {
      "image/png": "[encoded data removed]",
      "text/plain": [
       "<matplotlib.figure.Figure at 0xb0658d0>"
      ]
     },
     "metadata": {},
     "output_type": "display_data"
    }
   ],
   "source": [
    "# 倒置调色板的顺序\n",
    "sns.palplot(sns.light_palette(\"navy\", reverse=True))"
   ]
  },
  {
   "cell_type": "code",
   "execution_count": 26,
   "metadata": {},
   "outputs": [
    {
     "data": {
      "image/png": "[encoded data removed]",
      "text/plain": [
       "<matplotlib.figure.Figure at 0x9c32518>"
      ]
     },
     "metadata": {},
     "output_type": "display_data"
    }
   ],
   "source": [
    "# 产生colormap对象，而非颜色列表\n",
    "pal = sns.dark_palette(\"palegreen\", as_cmap=True)\n",
    "sns.kdeplot(x, y, cmap=pal);"
   ]
  },
  {
   "cell_type": "code",
   "execution_count": 27,
   "metadata": {},
   "outputs": [
    {
     "data": {
      "image/png": "[encoded data removed]",
      "text/plain": [
       "<matplotlib.figure.Figure at 0x9f2be48>"
      ]
     },
     "metadata": {},
     "output_type": "display_data"
    }
   ],
   "source": [
    "# provide tuples in ``hls`` or ``husl`` space along with the default ``rgb``\n",
    "sns.palplot(sns.light_palette((210, 90, 60), input=\"husl\"))"
   ]
  },
  {
   "cell_type": "code",
   "execution_count": 28,
   "metadata": {},
   "outputs": [
    {
     "data": {
      "image/png": "[encoded data removed]",
      "text/plain": [
       "<matplotlib.figure.Figure at 0xb6fc8d0>"
      ]
     },
     "metadata": {},
     "output_type": "display_data"
    }
   ],
   "source": [
    "# seed the palette with any valid ``xkcd`` color\n",
    "sns.palplot(sns.dark_palette(\"muted purple\", input=\"xkcd\"))"
   ]
  },
  {
   "cell_type": "markdown",
   "metadata": {},
   "source": [
    "#### sns.choose_light_palette()能够以互动的方式测试、修改不同的参数\n",
    "只能用于Jupyter Notebook"
   ]
  },
  {
   "cell_type": "markdown",
   "metadata": {},
   "source": [
    "sns.choose_light_palette(input='husl', as_cmap=False)\n",
    "+ input : {‘husl’, ‘hls’, ‘rgb’}  \n",
    "Color space for defining the seed value. Note that the default is different than the default input for light_palette().\n",
    "+ as_cmap : bool  \n",
    "If True, the return value is a matplotlib colormap rather than a list of discrete colors."
   ]
  },
  {
   "cell_type": "code",
   "execution_count": 29,
   "metadata": {},
   "outputs": [
    {
     "data": {
      "text/plain": [
       "[array([ 0.94054458,  0.95945542,  0.95679586,  1.        ]),\n",
       " array([ 0.87363254,  0.90742758,  0.90267475,  1.        ]),\n",
       " array([ 0.80672051,  0.85539974,  0.84855364,  1.        ]),\n",
       " array([ 0.73741876,  0.80151376,  0.79249963,  1.        ]),\n",
       " array([ 0.67050672,  0.74948591,  0.73837852,  1.        ]),\n",
       " array([ 0.60120497,  0.69559993,  0.68232452,  1.        ]),\n",
       " array([ 0.53429294,  0.64357209,  0.62820341,  1.        ]),\n",
       " array([ 0.46499119,  0.58968611,  0.5721494 ,  1.        ]),\n",
       " array([ 0.39807915,  0.53765827,  0.51802829,  1.        ]),\n",
       " array([ 0.33116712,  0.48563043,  0.46390718,  1.        ])]"
      ]
     },
     "execution_count": 29,
     "metadata": {},
     "output_type": "execute_result"
    },
    {
     "data": {
      "image/png": "[encoded data removed]",
      "text/plain": [
       "<matplotlib.figure.Figure at 0x9f29438>"
      ]
     },
     "metadata": {},
     "output_type": "display_data"
    }
   ],
   "source": [
    "sns.choose_light_palette(input='husl', as_cmap=False)"
   ]
  },
  {
   "cell_type": "markdown",
   "metadata": {},
   "source": [
    "#### sns.choose_dark_palette()能够以互动的方式测试、修改不同的参数  \n",
    "只能用于Jupyter Notebook"
   ]
  },
  {
   "cell_type": "markdown",
   "metadata": {},
   "source": [
    "sns.choose_dark_palette(input='husl', as_cmap=False)\n",
    "+ input : {‘husl’, ‘hls’, ‘rgb’}  \n",
    "Color space for defining the seed value. Note that the default is different than the default input for dark_palette().\n",
    "+ as_cmap : bool  \n",
    "If True, the return value is a matplotlib colormap rather than a list of discrete colors."
   ]
  },
  {
   "cell_type": "code",
   "execution_count": 30,
   "metadata": {},
   "outputs": [
    {
     "data": {
      "text/plain": [
       "[array([ 0.13333333,  0.13333333,  0.13333333,  1.        ]),\n",
       " array([ 0.15505626,  0.17201694,  0.16963164,  1.        ]),\n",
       " array([ 0.17677918,  0.21070054,  0.20592994,  1.        ]),\n",
       " array([ 0.19927793,  0.2507657 ,  0.24352462,  1.        ]),\n",
       " array([ 0.22100085,  0.2894493 ,  0.27982292,  1.        ]),\n",
       " array([ 0.2434996 ,  0.32951446,  0.31741759,  1.        ]),\n",
       " array([ 0.26522252,  0.36819806,  0.3537159 ,  1.        ]),\n",
       " array([ 0.28772127,  0.40826322,  0.39131057,  1.        ]),\n",
       " array([ 0.30944419,  0.44694683,  0.42760888,  1.        ]),\n",
       " array([ 0.33116712,  0.48563043,  0.46390718,  1.        ])]"
      ]
     },
     "execution_count": 30,
     "metadata": {},
     "output_type": "execute_result"
    },
    {
     "data": {
      "image/png": "[encoded data removed]",
      "text/plain": [
       "<matplotlib.figure.Figure at 0xaba8d30>"
      ]
     },
     "metadata": {},
     "output_type": "display_data"
    }
   ],
   "source": [
    "sns.choose_dark_palette(input='husl', as_cmap=False)"
   ]
  },
  {
   "cell_type": "markdown",
   "metadata": {},
   "source": [
    "### Diverging color palettes\n",
    "当数据集的低值和高值都很重要，且数据集中有明确定义的中点时，最好使用diverging color palettes  \n",
    "\n",
    "例如，绘制温度相对于基准时间点的变化图，最好使用diverging colormap来同时显示温度相对于基准值的上升和下降  \n",
    "\n",
    "两端的颜色应该具有相似的亮度和饱和度，中间点的颜色不应该喧宾夺主"
   ]
  },
  {
   "cell_type": "code",
   "execution_count": 31,
   "metadata": {},
   "outputs": [
    {
     "data": {
      "image/png": "[encoded data removed]",
      "text/plain": [
       "<matplotlib.figure.Figure at 0xafa22b0>"
      ]
     },
     "metadata": {},
     "output_type": "display_data"
    }
   ],
   "source": [
    "sns.palplot(sns.color_palette(\"BrBG\", 7))"
   ]
  },
  {
   "cell_type": "code",
   "execution_count": 32,
   "metadata": {},
   "outputs": [
    {
     "data": {
      "image/png": "[encoded data removed]",
      "text/plain": [
       "<matplotlib.figure.Figure at 0x9e0b748>"
      ]
     },
     "metadata": {},
     "output_type": "display_data"
    }
   ],
   "source": [
    "sns.palplot(sns.color_palette(\"RdBu_r\", 7))"
   ]
  },
  {
   "cell_type": "code",
   "execution_count": 33,
   "metadata": {},
   "outputs": [
    {
     "data": {
      "image/png": "[encoded data removed]",
      "text/plain": [
       "<matplotlib.figure.Figure at 0xb17cb38>"
      ]
     },
     "metadata": {},
     "output_type": "display_data"
    }
   ],
   "source": [
    "# coolwarm调色板也是很好的选择，缺点在于中间的颜色和两端的颜色对比较少\n",
    "sns.palplot(sns.color_palette(\"coolwarm\", 7))"
   ]
  },
  {
   "cell_type": "markdown",
   "metadata": {},
   "source": [
    "#### Diverging palettes中的diverging_palette()函数\n",
    "diverging_palette()函数使用'husl'颜色系统，需要在函数中设置两个hue参数，也可以选择设置两端颜色的亮度和饱和度"
   ]
  },
  {
   "cell_type": "code",
   "execution_count": 34,
   "metadata": {},
   "outputs": [
    {
     "data": {
      "image/png": "[encoded data removed]",
      "text/plain": [
       "<matplotlib.figure.Figure at 0xb1f5da0>"
      ]
     },
     "metadata": {},
     "output_type": "display_data"
    }
   ],
   "source": [
    "sns.palplot(sns.diverging_palette(220, 20, n=7))"
   ]
  },
  {
   "cell_type": "code",
   "execution_count": 35,
   "metadata": {},
   "outputs": [
    {
     "data": {
      "image/png": "[encoded data removed]",
      "text/plain": [
       "<matplotlib.figure.Figure at 0xaba8cc0>"
      ]
     },
     "metadata": {},
     "output_type": "display_data"
    }
   ],
   "source": [
    "sns.palplot(sns.diverging_palette(145, 280, s=85, l=25, n=7))"
   ]
  },
  {
   "cell_type": "code",
   "execution_count": 36,
   "metadata": {},
   "outputs": [
    {
     "data": {
      "image/png": "[encoded data removed]",
      "text/plain": [
       "<matplotlib.figure.Figure at 0xb15a9b0>"
      ]
     },
     "metadata": {},
     "output_type": "display_data"
    }
   ],
   "source": [
    "# sep参数controls the width of the separation between the two ramps in the middle region of the palette\n",
    "sns.palplot(sns.diverging_palette(10, 220, sep=80, n=7))"
   ]
  },
  {
   "cell_type": "code",
   "execution_count": 37,
   "metadata": {},
   "outputs": [
    {
     "data": {
      "image/png": "[encoded data removed]",
      "text/plain": [
       "<matplotlib.figure.Figure at 0x9b3d5c0>"
      ]
     },
     "metadata": {},
     "output_type": "display_data"
    }
   ],
   "source": [
    "# 可以将中间点的颜色设置成暗色而非亮色\n",
    "sns.palplot(sns.diverging_palette(255, 133, l=60, n=7, center=\"dark\"))"
   ]
  },
  {
   "cell_type": "markdown",
   "metadata": {},
   "source": [
    "#### sns.choose_diverging_palette()能够以互动的方式测试、修改不同的参数\n",
    "只能用于Jupyter Notebook"
   ]
  },
  {
   "cell_type": "markdown",
   "metadata": {},
   "source": [
    "sns.choose_diverging_palette(as_cmap=False)\n",
    "+ as_cmap : bool\n",
    "If True, the return value is a matplotlib colormap rather than a list of discrete colors."
   ]
  },
  {
   "cell_type": "code",
   "execution_count": 38,
   "metadata": {},
   "outputs": [
    {
     "data": {
      "text/plain": [
       "[array([ 0.25199714,  0.49873371,  0.57516028,  1.        ]),\n",
       " array([ 0.43026136,  0.62000665,  0.67878019,  1.        ]),\n",
       " array([ 0.60852558,  0.74127959,  0.7824001 ,  1.        ]),\n",
       " array([ 0.7867898 ,  0.86255253,  0.88602001,  1.        ]),\n",
       " array([ 0.95,  0.95,  0.95,  1.  ]),\n",
       " array([ 0.95457726,  0.76653099,  0.78032569,  1.        ]),\n",
       " array([ 0.91971827,  0.58735877,  0.61174   ,  1.        ]),\n",
       " array([ 0.88485928,  0.40818655,  0.44315432,  1.        ]),\n",
       " array([ 0.85104086,  0.23436275,  0.27960104,  1.        ])]"
      ]
     },
     "execution_count": 38,
     "metadata": {},
     "output_type": "execute_result"
    },
    {
     "data": {
      "image/png": "[encoded data removed]",
      "text/plain": [
       "<matplotlib.figure.Figure at 0x9e03c50>"
      ]
     },
     "metadata": {},
     "output_type": "display_data"
    }
   ],
   "source": [
    "sns.choose_diverging_palette(as_cmap=False)"
   ]
  },
  {
   "cell_type": "raw",
   "metadata": {},
   "source": [
    ".. _palette_contexts:\n",
    "\n",
    "Changing default palettes with :func:`set_palette`\n",
    "--------------------------------------------------\n",
    "\n",
    "The :func:`color_palette` function has a companion called :func:`set_palette`. The relationship between them is similar to the pairs covered in the :ref:`aesthetics tutorial <aesthetics_tutorial>`. :func:`set_palette` accepts the same arguments as :func:`color_palette`, but it changes the default matplotlib parameters so that the palette is used for all plots."
   ]
  },
  {
   "cell_type": "markdown",
   "metadata": {},
   "source": [
    "## 使用set_palette()函数改变配色方案的默认设置\n",
    "color_palette()与set_palette()的关系，类似于axes_style()和set_style()的关系  \n",
    "\n",
    "set_palette()的参数与color_palette()相同  \n",
    "\n",
    "区别在于，set_palette()会改变配色方案的默认设置，从而应用于之后所有的图表"
   ]
  },
  {
   "cell_type": "code",
   "execution_count": 39,
   "metadata": {},
   "outputs": [],
   "source": [
    "def sinplot(flip=1):\n",
    "    x = np.linspace(0, 14, 100)\n",
    "    for i in range(1, 7):\n",
    "        plt.plot(x, np.sin(x + i * .5) * (7 - i) * flip)"
   ]
  },
  {
   "cell_type": "code",
   "execution_count": 40,
   "metadata": {},
   "outputs": [
    {
     "data": {
      "image/png": "[encoded data removed]",
      "text/plain": [
       "<matplotlib.figure.Figure at 0x9c85be0>"
      ]
     },
     "metadata": {},
     "output_type": "display_data"
    }
   ],
   "source": [
    "sns.set_palette(\"husl\")\n",
    "sinplot()"
   ]
  },
  {
   "cell_type": "markdown",
   "metadata": {},
   "source": [
    "## 临时设置图表配色方案\n",
    "在with语句里使用color_palette()函数来临时设置图表配色方案"
   ]
  },
  {
   "cell_type": "code",
   "execution_count": 41,
   "metadata": {},
   "outputs": [
    {
     "data": {
      "image/png": "[encoded data removed]",
      "text/plain": [
       "<matplotlib.figure.Figure at 0x9d6cc50>"
      ]
     },
     "metadata": {},
     "output_type": "display_data"
    }
   ],
   "source": [
    "with sns.color_palette(\"PuBuGn_d\"):\n",
    "    sinplot()"
   ]
  }
 ],
 "metadata": {
  "kernelspec": {
   "display_name": "Python 3",
   "language": "python",
   "name": "python3"
  },
  "language_info": {
   "codemirror_mode": {
    "name": "ipython",
    "version": 3
   },
   "file_extension": ".py",
   "mimetype": "text/x-python",
   "name": "python",
   "nbconvert_exporter": "python",
   "pygments_lexer": "ipython3",
   "version": "3.5.2"
  },
  "toc": {
   "colors": {
    "hover_highlight": "#DAA520",
    "navigate_num": "#000000",
    "navigate_text": "#333333",
    "running_highlight": "#FF0000",
    "selected_highlight": "#FFD700",
    "sidebar_border": "#EEEEEE",
    "wrapper_background": "#FFFFFF"
   },
   "moveMenuLeft": true,
   "nav_menu": {
    "height": "405px",
    "width": "252px"
   },
   "navigate_menu": true,
   "number_sections": true,
   "sideBar": true,
   "threshold": 4,
   "toc_cell": false,
   "toc_section_display": "block",
   "toc_window_display": true,
   "widenNotebook": false
  }
 },
 "nbformat": 4,
 "nbformat_minor": 1
}
